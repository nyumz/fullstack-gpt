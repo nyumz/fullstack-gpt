{
 "cells": [
  {
   "cell_type": "code",
   "execution_count": null,
   "metadata": {},
   "outputs": [],
   "source": [
    "from langchain.chat_models import ChatOpenAI\n",
    "from langchain.prompts import ChatPromptTemplate\n",
    "from langchain.callbacks import StreamingStdOutCallbackHandler\n",
    "\n",
    "chat = ChatOpenAI(model=\"gpt-3.5-turbo\",temperature=0.9, streaming=True, callbacks=[StreamingStdOutCallbackHandler()])\n",
    "\n",
    "poet_prompt = ChatPromptTemplate.from_messages([\n",
    "    (\"system\",\"당신은 프로그래밍 언어에 대한 서정적인 시를 공감각적으로 짓기로 유명한 한국인 시인입니다.\"),\n",
    "    (\"human\",\"프로그래밍 언어인 {language}를 처음 접하고 그 간편함에 감탄한 시를 지어줘.\"),\n",
    "])\n",
    "\n",
    "poet_chain = poet_prompt |chat\n",
    "\n",
    "poem_analyzer_prompt = ChatPromptTemplate.from_messages([\n",
    "    (\"system\",\"당신은어학당 선생님입니다. 한국어를 배운지 얼마 되지 않은 외국인에게 한국어로 주어진 시에대한 설명을 해줍니다.\"),\n",
    "    (\"human\",\"{poem}라는 시에 대해 설명해줘.\"),\n",
    "])\n",
    "\n",
    "poem_analyzer_chain = poem_analyzer_prompt | chat\n",
    "\n",
    "final_chain = {\"poem\":poet_chain} | poem_analyzer_chain\n",
    "\n",
    "final_chain.invoke({\"language\":input(\"프로그래밍 언어\")})"
   ]
  },
  {
   "cell_type": "code",
   "execution_count": null,
   "metadata": {},
   "outputs": [],
   "source": []
  }
 ],
 "metadata": {
  "kernelspec": {
   "display_name": "env",
   "language": "python",
   "name": "python3"
  },
  "language_info": {
   "codemirror_mode": {
    "name": "ipython",
    "version": 3
   },
   "file_extension": ".py",
   "mimetype": "text/x-python",
   "name": "python",
   "nbconvert_exporter": "python",
   "pygments_lexer": "ipython3",
   "version": "3.11.6"
  }
 },
 "nbformat": 4,
 "nbformat_minor": 2
}
